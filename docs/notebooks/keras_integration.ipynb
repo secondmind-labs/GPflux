{
 "cells": [
  {
   "cell_type": "markdown",
   "id": "051c4ae3",
   "metadata": {
    "cell_marker": "\"\"\"",
    "lines_to_next_cell": 0
   },
   "source": [
    "# Keras integration\n",
    "\n",
    "TODO: Some explanation..."
   ]
  },
  {
   "cell_type": "code",
   "execution_count": 1,
   "id": "56e310e9",
   "metadata": {
    "execution": {
     "iopub.execute_input": "2024-06-20T12:04:05.720488Z",
     "iopub.status.busy": "2024-06-20T12:04:05.720244Z",
     "iopub.status.idle": "2024-06-20T12:04:10.562221Z",
     "shell.execute_reply": "2024-06-20T12:04:10.561503Z"
    },
    "lines_to_next_cell": 2
   },
   "outputs": [
    {
     "name": "stderr",
     "output_type": "stream",
     "text": [
      "2024-06-20 12:04:05.988604: I tensorflow/tsl/cuda/cudart_stub.cc:28] Could not find cuda drivers on your machine, GPU will not be used.\n",
      "2024-06-20 12:04:06.020773: I tensorflow/tsl/cuda/cudart_stub.cc:28] Could not find cuda drivers on your machine, GPU will not be used.\n",
      "2024-06-20 12:04:06.021436: I tensorflow/core/platform/cpu_feature_guard.cc:182] This TensorFlow binary is optimized to use available CPU instructions in performance-critical operations.\n",
      "To enable the following instructions: AVX2 FMA, in other operations, rebuild TensorFlow with the appropriate compiler flags.\n"
     ]
    },
    {
     "name": "stderr",
     "output_type": "stream",
     "text": [
      "2024-06-20 12:04:06.790191: W tensorflow/compiler/tf2tensorrt/utils/py_utils.cc:38] TF-TRT Warning: Could not find TensorRT\n"
     ]
    }
   ],
   "source": [
    "import numpy as np\n",
    "import tensorflow as tf\n",
    "import gpflow\n",
    "import gpflux\n",
    "from gpflow.ci_utils import reduce_in_tests\n",
    "from gpflow.keras import tf_keras\n",
    "\n",
    "import matplotlib.pyplot as plt"
   ]
  },
  {
   "cell_type": "code",
   "execution_count": 2,
   "id": "6a804043",
   "metadata": {
    "execution": {
     "iopub.execute_input": "2024-06-20T12:04:10.565622Z",
     "iopub.status.busy": "2024-06-20T12:04:10.565015Z",
     "iopub.status.idle": "2024-06-20T12:04:10.574608Z",
     "shell.execute_reply": "2024-06-20T12:04:10.574011Z"
    }
   },
   "outputs": [],
   "source": [
    "%matplotlib inline"
   ]
  },
  {
   "cell_type": "code",
   "execution_count": 3,
   "id": "8c856583",
   "metadata": {
    "execution": {
     "iopub.execute_input": "2024-06-20T12:04:10.577412Z",
     "iopub.status.busy": "2024-06-20T12:04:10.577182Z",
     "iopub.status.idle": "2024-06-20T12:04:10.582116Z",
     "shell.execute_reply": "2024-06-20T12:04:10.581530Z"
    }
   },
   "outputs": [],
   "source": [
    "d = np.load(\"../../tests/snelson1d.npz\")\n",
    "X, Y = d[\"X\"], d[\"Y\"]\n",
    "num_data, input_dim = X.shape\n",
    "_, output_dim = Y.shape"
   ]
  },
  {
   "cell_type": "code",
   "execution_count": 4,
   "id": "0de34673",
   "metadata": {
    "execution": {
     "iopub.execute_input": "2024-06-20T12:04:10.584705Z",
     "iopub.status.busy": "2024-06-20T12:04:10.584477Z",
     "iopub.status.idle": "2024-06-20T12:04:10.683814Z",
     "shell.execute_reply": "2024-06-20T12:04:10.682983Z"
    }
   },
   "outputs": [
    {
     "data": {
      "image/png": "[encoded data removed]",
      "text/plain": [
       "<Figure size 640x480 with 1 Axes>"
      ]
     },
     "metadata": {},
     "output_type": "display_data"
    }
   ],
   "source": [
    "plt.figure()\n",
    "plt.plot(X, Y, \".\")\n",
    "plt.show()"
   ]
  },
  {
   "cell_type": "code",
   "execution_count": 5,
   "id": "f44b0552",
   "metadata": {
    "execution": {
     "iopub.execute_input": "2024-06-20T12:04:10.686816Z",
     "iopub.status.busy": "2024-06-20T12:04:10.686583Z",
     "iopub.status.idle": "2024-06-20T12:04:10.692749Z",
     "shell.execute_reply": "2024-06-20T12:04:10.692023Z"
    }
   },
   "outputs": [],
   "source": [
    "def create_layers():\n",
    "    num_inducing = 13\n",
    "    hidden_dim = 1\n",
    "    Z = np.linspace(X.min() - 0.1, X.max() + 0.1, num_inducing).reshape(-1, 1)\n",
    "\n",
    "    layer1 = gpflux.helpers.construct_gp_layer(\n",
    "        num_data, num_inducing, input_dim, hidden_dim, z_init=Z.copy()\n",
    "    )\n",
    "    layer1.mean_function = gpflow.mean_functions.Identity()  # TODO: pass layer_type instead\n",
    "    layer1.q_sqrt.assign(layer1.q_sqrt * 0.01)\n",
    "\n",
    "    layer2 = gpflux.helpers.construct_gp_layer(\n",
    "        num_data, num_inducing, hidden_dim, output_dim, z_init=Z.copy()\n",
    "    )\n",
    "\n",
    "    likelihood_layer = gpflux.layers.LikelihoodLayer(gpflow.likelihoods.Gaussian(0.01))\n",
    "\n",
    "    return layer1, layer2, likelihood_layer"
   ]
  },
  {
   "cell_type": "code",
   "execution_count": 6,
   "id": "3f34f1df",
   "metadata": {
    "execution": {
     "iopub.execute_input": "2024-06-20T12:04:10.696061Z",
     "iopub.status.busy": "2024-06-20T12:04:10.695376Z",
     "iopub.status.idle": "2024-06-20T12:04:10.700347Z",
     "shell.execute_reply": "2024-06-20T12:04:10.699685Z"
    }
   },
   "outputs": [],
   "source": [
    "def create_model(model_class):\n",
    "    \"\"\"\n",
    "    We pass in `model_class` to make it easy to use\n",
    "    `gpflux.optimization.NatGradModel`, which is required for combining\n",
    "    GPflow's `NaturalGradient` optimizer with Keras. `model_class` needs to be\n",
    "    a constructor that has the same semantics as `tf.keras.Model.__init__`.\n",
    "    \"\"\"\n",
    "    layer1, layer2, likelihood_layer = create_layers()\n",
    "    dgp = gpflux.models.DeepGP([layer1, layer2], likelihood_layer, default_model_class=model_class)\n",
    "    return dgp"
   ]
  },
  {
   "cell_type": "code",
   "execution_count": 7,
   "id": "09284e77",
   "metadata": {
    "execution": {
     "iopub.execute_input": "2024-06-20T12:04:10.703101Z",
     "iopub.status.busy": "2024-06-20T12:04:10.702882Z",
     "iopub.status.idle": "2024-06-20T12:04:10.707414Z",
     "shell.execute_reply": "2024-06-20T12:04:10.706699Z"
    }
   },
   "outputs": [],
   "source": [
    "batch_size = 2\n",
    "num_epochs = reduce_in_tests(200)"
   ]
  },
  {
   "cell_type": "code",
   "execution_count": 8,
   "id": "637f1457",
   "metadata": {
    "execution": {
     "iopub.execute_input": "2024-06-20T12:04:10.710255Z",
     "iopub.status.busy": "2024-06-20T12:04:10.710027Z",
     "iopub.status.idle": "2024-06-20T12:04:15.935374Z",
     "shell.execute_reply": "2024-06-20T12:04:15.934714Z"
    }
   },
   "outputs": [
    {
     "name": "stderr",
     "output_type": "stream",
     "text": [
      "/tmp/ipykernel_3293/2200924875.py:16: DeprecationWarning: Call to deprecated class TrackableLayer. (GPflux's `TrackableLayer` was prior to TF2.5 used to collect GPflow variables in subclassed layers. As of TF 2.5, `tf.Module` supports this natively and there is no need for `TrackableLayer` anymore. It will be removed in GPflux version `1.0.0`.)\n",
      "  likelihood_layer = gpflux.layers.LikelihoodLayer(gpflow.likelihoods.Gaussian(0.01))\n"
     ]
    },
    {
     "name": "stdout",
     "output_type": "stream",
     "text": [
      "Epoch 1/2\n"
     ]
    },
    {
     "name": "stdout",
     "output_type": "stream",
     "text": [
      "\r",
      "  1/100 [..............................] - ETA: 5:26 - loss: 143.5476 - gp_layer_prior_kl: 0.2668 - gp_layer_1_prior_kl: 0.0000e+00"
     ]
    },
    {
     "name": "stdout",
     "output_type": "stream",
     "text": [
      "\b\b\b\b\b\b\b\b\b\b\b\b\b\b\b\b\b\b\b\b\b\b\b\b\b\b\b\b\b\b\b\b\b\b\b\b\b\b\b\b\b\b\b\b\b\b\b\b\b\b\b\b\b\b\b\b\b\b\b\b\b\b\b\b\b\b\b\b\b\b\b\b\b\b\b\b\b\b\b\b\b\b\b\b\b\b\b\b\b\b\b\b\b\b\b\b\b\b\b\b\b\b\b\b\b\b\b\b\b\b\b\b\b\b\b\b\b\b\b\b\b\b\b\b\b\b\b\b\b\b\b\r",
      " 43/100 [===========>..................] - ETA: 0s - loss: 17.6970 - gp_layer_prior_kl: 0.1145 - gp_layer_1_prior_kl: 0.0868       "
     ]
    },
    {
     "name": "stdout",
     "output_type": "stream",
     "text": [
      "\b\b\b\b\b\b\b\b\b\b\b\b\b\b\b\b\b\b\b\b\b\b\b\b\b\b\b\b\b\b\b\b\b\b\b\b\b\b\b\b\b\b\b\b\b\b\b\b\b\b\b\b\b\b\b\b\b\b\b\b\b\b\b\b\b\b\b\b\b\b\b\b\b\b\b\b\b\b\b\b\b\b\b\b\b\b\b\b\b\b\b\b\b\b\b\b\b\b\b\b\b\b\b\b\b\b\b\b\b\b\b\b\b\b\b\b\b\b\b\b\b\b\b\b\r",
      " 85/100 [========================>.....] - ETA: 0s - loss: 10.8177 - gp_layer_prior_kl: 0.1323 - gp_layer_1_prior_kl: 0.0963"
     ]
    },
    {
     "name": "stdout",
     "output_type": "stream",
     "text": [
      "\b\b\b\b\b\b\b\b\b\b\b\b\b\b\b\b\b\b\b\b\b\b\b\b\b\b\b\b\b\b\b\b\b\b\b\b\b\b\b\b\b\b\b\b\b\b\b\b\b\b\b\b\b\b\b\b\b\b\b\b\b\b\b\b\b\b\b\b\b\b\b\b\b\b\b\b\b\b\b\b\b\b\b\b\b\b\b\b\b\b\b\b\b\b\b\b\b\b\b\b\b\b\b\b\b\b\b\b\b\b\b\b\b\b\b\b\b\b\b\b\b\b\b\b\r",
      "100/100 [==============================] - 3s 1ms/step - loss: 9.5137 - gp_layer_prior_kl: 0.1376 - gp_layer_1_prior_kl: 0.0946 - lr: 0.1000\n"
     ]
    },
    {
     "name": "stdout",
     "output_type": "stream",
     "text": [
      "Epoch 2/2\n"
     ]
    },
    {
     "name": "stdout",
     "output_type": "stream",
     "text": [
      "\r",
      "  1/100 [..............................] - ETA: 0s - loss: 1.0320 - gp_layer_prior_kl: 0.1572 - gp_layer_1_prior_kl: 0.0826"
     ]
    },
    {
     "name": "stdout",
     "output_type": "stream",
     "text": [
      "\b\b\b\b\b\b\b\b\b\b\b\b\b\b\b\b\b\b\b\b\b\b\b\b\b\b\b\b\b\b\b\b\b\b\b\b\b\b\b\b\b\b\b\b\b\b\b\b\b\b\b\b\b\b\b\b\b\b\b\b\b\b\b\b\b\b\b\b\b\b\b\b\b\b\b\b\b\b\b\b\b\b\b\b\b\b\b\b\b\b\b\b\b\b\b\b\b\b\b\b\b\b\b\b\b\b\b\b\b\b\b\b\b\b\b\b\b\b\b\b\b\b\b\r",
      " 38/100 [==========>...................] - ETA: 0s - loss: 1.9177 - gp_layer_prior_kl: 0.1385 - gp_layer_1_prior_kl: 0.0785"
     ]
    },
    {
     "name": "stdout",
     "output_type": "stream",
     "text": [
      "\b\b\b\b\b\b\b\b\b\b\b\b\b\b\b\b\b\b\b\b\b\b\b\b\b\b\b\b\b\b\b\b\b\b\b\b\b\b\b\b\b\b\b\b\b\b\b\b\b\b\b\b\b\b\b\b\b\b\b\b\b\b\b\b\b\b\b\b\b\b\b\b\b\b\b\b\b\b\b\b\b\b\b\b\b\b\b\b\b\b\b\b\b\b\b\b\b\b\b\b\b\b\b\b\b\b\b\b\b\b\b\b\b\b\b\b\b\b\b\b\b\b\b\r",
      " 74/100 [=====================>........] - ETA: 0s - loss: 1.8447 - gp_layer_prior_kl: 0.1309 - gp_layer_1_prior_kl: 0.0753"
     ]
    },
    {
     "name": "stdout",
     "output_type": "stream",
     "text": [
      "\b\b\b\b\b\b\b\b\b\b\b\b\b\b\b\b\b\b\b\b\b\b\b\b\b\b\b\b\b\b\b\b\b\b\b\b\b\b\b\b\b\b\b\b\b\b\b\b\b\b\b\b\b\b\b\b\b\b\b\b\b\b\b\b\b\b\b\b\b\b\b\b\b\b\b\b\b\b\b\b\b\b\b\b\b\b\b\b\b\b\b\b\b\b\b\b\b\b\b\b\b\b\b\b\b\b\b\b\b\b\b\b\b\b\b\b\b\b\b\b\b\b\b\r",
      "100/100 [==============================] - 0s 1ms/step - loss: 1.7143 - gp_layer_prior_kl: 0.1247 - gp_layer_1_prior_kl: 0.0732 - lr: 0.1000\n"
     ]
    }
   ],
   "source": [
    "dgp = create_model(tf_keras.Model)\n",
    "\n",
    "callbacks = [\n",
    "    tf_keras.callbacks.ReduceLROnPlateau(\n",
    "        monitor=\"loss\",\n",
    "        patience=5,\n",
    "        factor=0.95,\n",
    "        verbose=1,\n",
    "        min_lr=1e-6,\n",
    "    )\n",
    "]\n",
    "\n",
    "dgp_train = dgp.as_training_model()\n",
    "dgp_train.compile(tf_keras.optimizers.Adam(learning_rate=0.1))\n",
    "\n",
    "history = dgp_train.fit(\n",
    "    {\"inputs\": X, \"targets\": Y}, batch_size=batch_size, epochs=num_epochs, callbacks=callbacks\n",
    ")"
   ]
  },
  {
   "cell_type": "code",
   "execution_count": 9,
   "id": "c6d590d5",
   "metadata": {
    "execution": {
     "iopub.execute_input": "2024-06-20T12:04:15.938559Z",
     "iopub.status.busy": "2024-06-20T12:04:15.938110Z",
     "iopub.status.idle": "2024-06-20T12:04:19.722829Z",
     "shell.execute_reply": "2024-06-20T12:04:19.722083Z"
    }
   },
   "outputs": [
    {
     "name": "stderr",
     "output_type": "stream",
     "text": [
      "/tmp/ipykernel_3293/2200924875.py:16: DeprecationWarning: Call to deprecated class TrackableLayer. (GPflux's `TrackableLayer` was prior to TF2.5 used to collect GPflow variables in subclassed layers. As of TF 2.5, `tf.Module` supports this natively and there is no need for `TrackableLayer` anymore. It will be removed in GPflux version `1.0.0`.)\n",
      "  likelihood_layer = gpflux.layers.LikelihoodLayer(gpflow.likelihoods.Gaussian(0.01))\n"
     ]
    },
    {
     "name": "stdout",
     "output_type": "stream",
     "text": [
      "Epoch 1/2\n"
     ]
    },
    {
     "name": "stdout",
     "output_type": "stream",
     "text": [
      "Executing NatGradModel backwards pass\n"
     ]
    },
    {
     "name": "stdout",
     "output_type": "stream",
     "text": [
      "Executing NatGradModel backwards pass\n"
     ]
    },
    {
     "name": "stdout",
     "output_type": "stream",
     "text": [
      "\r",
      "  1/100 [..............................] - ETA: 4:34 - loss: 61.2573 - gp_layer_2_prior_kl: 0.2668 - gp_layer_3_prior_kl: 0.0000e+00"
     ]
    },
    {
     "name": "stdout",
     "output_type": "stream",
     "text": [
      "\b\b\b\b\b\b\b\b\b\b\b\b\b\b\b\b\b\b\b\b\b\b\b\b\b\b\b\b\b\b\b\b\b\b\b\b\b\b\b\b\b\b\b\b\b\b\b\b\b\b\b\b\b\b\b\b\b\b\b\b\b\b\b\b\b\b\b\b\b\b\b\b\b\b\b\b\b\b\b\b\b\b\b\b\b\b\b\b\b\b\b\b\b\b\b\b\b\b\b\b\b\b\b\b\b\b\b\b\b\b\b\b\b\b\b\b\b\b\b\b\b\b\b\b\b\b\b\b\b\b\b\b\r",
      " 39/100 [==========>...................] - ETA: 0s - loss: 12.3861 - gp_layer_2_prior_kl: 0.2667 - gp_layer_3_prior_kl: 0.0176      "
     ]
    },
    {
     "name": "stdout",
     "output_type": "stream",
     "text": [
      "\b\b\b\b\b\b\b\b\b\b\b\b\b\b\b\b\b\b\b\b\b\b\b\b\b\b\b\b\b\b\b\b\b\b\b\b\b\b\b\b\b\b\b\b\b\b\b\b\b\b\b\b\b\b\b\b\b\b\b\b\b\b\b\b\b\b\b\b\b\b\b\b\b\b\b\b\b\b\b\b\b\b\b\b\b\b\b\b\b\b\b\b\b\b\b\b\b\b\b\b\b\b\b\b\b\b\b\b\b\b\b\b\b\b\b\b\b\b\b\b\b\b\b\b\b\b\r",
      " 78/100 [======================>.......] - ETA: 0s - loss: 7.2101 - gp_layer_2_prior_kl: 0.2665 - gp_layer_3_prior_kl: 0.0226 "
     ]
    },
    {
     "name": "stdout",
     "output_type": "stream",
     "text": [
      "\b\b\b\b\b\b\b\b\b\b\b\b\b\b\b\b\b\b\b\b\b\b\b\b\b\b\b\b\b\b\b\b\b\b\b\b\b\b\b\b\b\b\b\b\b\b\b\b\b\b\b\b\b\b\b\b\b\b\b\b\b\b\b\b\b\b\b\b\b\b\b\b\b\b\b\b\b\b\b\b\b\b\b\b\b\b\b\b\b\b\b\b\b\b\b\b\b\b\b\b\b\b\b\b\b\b\b\b\b\b\b\b\b\b\b\b\b\b\b\b\b\b\b\b\b\r",
      "100/100 [==============================] - 3s 1ms/step - loss: 5.9386 - gp_layer_2_prior_kl: 0.2665 - gp_layer_3_prior_kl: 0.0244 - lr: 0.1000\n"
     ]
    },
    {
     "name": "stdout",
     "output_type": "stream",
     "text": [
      "Epoch 2/2\n"
     ]
    },
    {
     "name": "stdout",
     "output_type": "stream",
     "text": [
      "\r",
      "  1/100 [..............................] - ETA: 0s - loss: 2.2113 - gp_layer_2_prior_kl: 0.2660 - gp_layer_3_prior_kl: 0.0321"
     ]
    },
    {
     "name": "stdout",
     "output_type": "stream",
     "text": [
      "\b\b\b\b\b\b\b\b\b\b\b\b\b\b\b\b\b\b\b\b\b\b\b\b\b\b\b\b\b\b\b\b\b\b\b\b\b\b\b\b\b\b\b\b\b\b\b\b\b\b\b\b\b\b\b\b\b\b\b\b\b\b\b\b\b\b\b\b\b\b\b\b\b\b\b\b\b\b\b\b\b\b\b\b\b\b\b\b\b\b\b\b\b\b\b\b\b\b\b\b\b\b\b\b\b\b\b\b\b\b\b\b\b\b\b\b\b\b\b\b\b\b\b\b\b\r",
      " 36/100 [=========>....................] - ETA: 0s - loss: 1.8592 - gp_layer_2_prior_kl: 0.2659 - gp_layer_3_prior_kl: 0.0330"
     ]
    },
    {
     "name": "stdout",
     "output_type": "stream",
     "text": [
      "\b\b\b\b\b\b\b\b\b\b\b\b\b\b\b\b\b\b\b\b\b\b\b\b\b\b\b\b\b\b\b\b\b\b\b\b\b\b\b\b\b\b\b\b\b\b\b\b\b\b\b\b\b\b\b\b\b\b\b\b\b\b\b\b\b\b\b\b\b\b\b\b\b\b\b\b\b\b\b\b\b\b\b\b\b\b\b\b\b\b\b\b\b\b\b\b\b\b\b\b\b\b\b\b\b\b\b\b\b\b\b\b\b\b\b\b\b\b\b\b\b\b\b\b\b\r",
      " 68/100 [===================>..........] - ETA: 0s - loss: 1.4975 - gp_layer_2_prior_kl: 0.2658 - gp_layer_3_prior_kl: 0.0337"
     ]
    },
    {
     "name": "stdout",
     "output_type": "stream",
     "text": [
      "\b\b\b\b\b\b\b\b\b\b\b\b\b\b\b\b\b\b\b\b\b\b\b\b\b\b\b\b\b\b\b\b\b\b\b\b\b\b\b\b\b\b\b\b\b\b\b\b\b\b\b\b\b\b\b\b\b\b\b\b\b\b\b\b\b\b\b\b\b\b\b\b\b\b\b\b\b\b\b\b\b\b\b\b\b\b\b\b\b\b\b\b\b\b\b\b\b\b\b\b\b\b\b\b\b\b\b\b\b\b\b\b\b\b\b\b\b\b\b\b\b\b\b\b\b\r",
      "100/100 [==============================] - ETA: 0s - loss: 1.4184 - gp_layer_2_prior_kl: 0.2656 - gp_layer_3_prior_kl: 0.0344"
     ]
    },
    {
     "name": "stdout",
     "output_type": "stream",
     "text": [
      "\b\b\b\b\b\b\b\b\b\b\b\b\b\b\b\b\b\b\b\b\b\b\b\b\b\b\b\b\b\b\b\b\b\b\b\b\b\b\b\b\b\b\b\b\b\b\b\b\b\b\b\b\b\b\b\b\b\b\b\b\b\b\b\b\b\b\b\b\b\b\b\b\b\b\b\b\b\b\b\b\b\b\b\b\b\b\b\b\b\b\b\b\b\b\b\b\b\b\b\b\b\b\b\b\b\b\b\b\b\b\b\b\b\b\b\b\b\b\b\b\b\b\b\b\b\r",
      "100/100 [==============================] - 0s 2ms/step - loss: 1.4184 - gp_layer_2_prior_kl: 0.2656 - gp_layer_3_prior_kl: 0.0344 - lr: 0.1000\n"
     ]
    }
   ],
   "source": [
    "dgp_natgrad = create_model(gpflux.optimization.NatGradModel)\n",
    "\n",
    "callbacks = [\n",
    "    tf_keras.callbacks.ReduceLROnPlateau(\n",
    "        monitor=\"loss\",\n",
    "        patience=5,\n",
    "        factor=0.95,\n",
    "        verbose=1,\n",
    "        min_lr=1e-6,\n",
    "    )\n",
    "]\n",
    "\n",
    "dgp_natgrad_train = dgp_natgrad.as_training_model()\n",
    "dgp_natgrad_train.natgrad_layers = (\n",
    "    True  # we want all (here two) GPLayer instances trained by NaturalGradient\n",
    ")\n",
    "# alternatively, we could set `natgrad_layers` explicitly to the GPLayer instances inside the model\n",
    "dgp_natgrad_train.compile(\n",
    "    [\n",
    "        gpflow.optimizers.NaturalGradient(gamma=0.05),\n",
    "        gpflow.optimizers.NaturalGradient(gamma=0.05),\n",
    "        tf_keras.optimizers.Adam(learning_rate=0.1),\n",
    "    ]\n",
    ")\n",
    "\n",
    "history_natgrad = dgp_natgrad_train.fit(\n",
    "    {\"inputs\": X, \"targets\": Y}, batch_size=batch_size, epochs=num_epochs, callbacks=callbacks\n",
    ")"
   ]
  },
  {
   "cell_type": "code",
   "execution_count": 10,
   "id": "426c3a6f",
   "metadata": {
    "execution": {
     "iopub.execute_input": "2024-06-20T12:04:19.726060Z",
     "iopub.status.busy": "2024-06-20T12:04:19.725530Z",
     "iopub.status.idle": "2024-06-20T12:04:20.374704Z",
     "shell.execute_reply": "2024-06-20T12:04:20.373948Z"
    }
   },
   "outputs": [],
   "source": [
    "dgp_test = dgp.as_prediction_model()\n",
    "res = dgp_test(X)"
   ]
  },
  {
   "cell_type": "code",
   "execution_count": 11,
   "id": "03b712e2",
   "metadata": {
    "execution": {
     "iopub.execute_input": "2024-06-20T12:04:20.377793Z",
     "iopub.status.busy": "2024-06-20T12:04:20.377374Z",
     "iopub.status.idle": "2024-06-20T12:04:20.515054Z",
     "shell.execute_reply": "2024-06-20T12:04:20.514322Z"
    }
   },
   "outputs": [
    {
     "data": {
      "image/png": "[encoded data removed]",
      "text/plain": [
       "<Figure size 640x480 with 1 Axes>"
      ]
     },
     "metadata": {},
     "output_type": "display_data"
    }
   ],
   "source": [
    "plt.plot(X, Y, \"x\")\n",
    "plt.errorbar(X.squeeze(), np.squeeze(res.y_mean), np.sqrt(np.squeeze(res.y_var)), ls=\"\")\n",
    "plt.show()"
   ]
  },
  {
   "cell_type": "code",
   "execution_count": 12,
   "id": "63b27ead",
   "metadata": {
    "execution": {
     "iopub.execute_input": "2024-06-20T12:04:20.517971Z",
     "iopub.status.busy": "2024-06-20T12:04:20.517620Z",
     "iopub.status.idle": "2024-06-20T12:04:20.640121Z",
     "shell.execute_reply": "2024-06-20T12:04:20.639243Z"
    }
   },
   "outputs": [
    {
     "data": {
      "image/png": "[encoded data removed]",
      "text/plain": [
       "<Figure size 640x480 with 1 Axes>"
      ]
     },
     "metadata": {},
     "output_type": "display_data"
    }
   ],
   "source": [
    "plt.plot(history.history[\"loss\"], label=\"Adam\")\n",
    "plt.plot(history_natgrad.history[\"loss\"], label=\"NatGrad\")\n",
    "plt.show()"
   ]
  }
 ],
 "metadata": {
  "jupytext": {
   "formats": "ipynb,py:percent"
  },
  "kernelspec": {
   "display_name": "Python 3",
   "language": "python",
   "name": "python3"
  },
  "language_info": {
   "codemirror_mode": {
    "name": "ipython",
    "version": 3
   },
   "file_extension": ".py",
   "mimetype": "text/x-python",
   "name": "python",
   "nbconvert_exporter": "python",
   "pygments_lexer": "ipython3",
   "version": "3.8.18"
  }
 },
 "nbformat": 4,
 "nbformat_minor": 5
}
