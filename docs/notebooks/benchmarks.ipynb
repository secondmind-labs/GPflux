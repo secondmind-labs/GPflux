{
 "cells": [
  {
   "cell_type": "markdown",
   "id": "eb125016",
   "metadata": {
    "cell_marker": "\"\"\""
   },
   "source": [
    "# Benchmarks\n",
    "\n",
    "We benchmark GPflux' Deep GP on several UCI datasets.\n",
    "The code to run the experiments can be found in `benchmarking/main.py`. The results are stored in `benchmarking/runs/*.json`. In this script we aggregate and plot the outcomes."
   ]
  },
  {
   "cell_type": "code",
   "execution_count": 1,
   "id": "e98ed8c3",
   "metadata": {
    "execution": {
     "iopub.execute_input": "2024-06-20T12:01:00.857455Z",
     "iopub.status.busy": "2024-06-20T12:01:00.857066Z",
     "iopub.status.idle": "2024-06-20T12:01:01.088089Z",
     "shell.execute_reply": "2024-06-20T12:01:01.087492Z"
    },
    "nbsphinx": "hidden"
   },
   "outputs": [],
   "source": [
    "import glob\n",
    "import json\n",
    "\n",
    "import numpy as np\n",
    "import pandas as pd"
   ]
  },
  {
   "cell_type": "code",
   "execution_count": 2,
   "id": "1f27cbd4",
   "metadata": {
    "execution": {
     "iopub.execute_input": "2024-06-20T12:01:01.091157Z",
     "iopub.status.busy": "2024-06-20T12:01:01.090677Z",
     "iopub.status.idle": "2024-06-20T12:01:01.098548Z",
     "shell.execute_reply": "2024-06-20T12:01:01.098018Z"
    },
    "nbsphinx": "hidden"
   },
   "outputs": [],
   "source": [
    "LOGS = \"../../benchmarking/runs/*.json\"\n",
    "\n",
    "data = []\n",
    "for path in glob.glob(LOGS):\n",
    "    with open(path) as json_file:\n",
    "        data.append(json.load(json_file))\n",
    "\n",
    "df = pd.DataFrame.from_records(data)\n",
    "df = df.rename(columns={\"model_name\": \"model\"})"
   ]
  },
  {
   "cell_type": "code",
   "execution_count": 3,
   "id": "15eaa7cb",
   "metadata": {
    "execution": {
     "iopub.execute_input": "2024-06-20T12:01:01.100975Z",
     "iopub.status.busy": "2024-06-20T12:01:01.100608Z",
     "iopub.status.idle": "2024-06-20T12:01:01.107369Z",
     "shell.execute_reply": "2024-06-20T12:01:01.106801Z"
    },
    "lines_to_next_cell": 0,
    "nbsphinx": "hidden"
   },
   "outputs": [],
   "source": [
    "table = df.groupby([\"dataset\", \"model\"]).agg(\n",
    "    {\n",
    "        \"split\": \"count\",\n",
    "        **{metric: [\"mean\", \"std\"] for metric in [\"mse\", \"nlpd\"]},\n",
    "    }\n",
    ")"
   ]
  },
  {
   "cell_type": "markdown",
   "id": "214338ae",
   "metadata": {
    "cell_marker": "\"\"\"",
    "lines_to_next_cell": 0
   },
   "source": [
    "We report the mean and std. dev. of the MSE and Negative Log Predictive Density (NLPD) measured by running the experiment on 5 different splits. We use 90% of the data for training and the remaining 10% for testing. The output is normalised to have zero mean and unit variance."
   ]
  },
  {
   "cell_type": "code",
   "execution_count": 4,
   "id": "a70c2df2",
   "metadata": {
    "execution": {
     "iopub.execute_input": "2024-06-20T12:01:01.109779Z",
     "iopub.status.busy": "2024-06-20T12:01:01.109381Z",
     "iopub.status.idle": "2024-06-20T12:01:01.123045Z",
     "shell.execute_reply": "2024-06-20T12:01:01.122380Z"
    }
   },
   "outputs": [
    {
     "data": {
      "text/html": [
       "<div>\n",
       "<style scoped>\n",
       "    .dataframe tbody tr th:only-of-type {\n",
       "        vertical-align: middle;\n",
       "    }\n",
       "\n",
       "    .dataframe tbody tr th {\n",
       "        vertical-align: top;\n",
       "    }\n",
       "\n",
       "    .dataframe thead tr th {\n",
       "        text-align: left;\n",
       "    }\n",
       "\n",
       "    .dataframe thead tr:last-of-type th {\n",
       "        text-align: right;\n",
       "    }\n",
       "</style>\n",
       "<table border=\"1\" class=\"dataframe\">\n",
       "  <thead>\n",
       "    <tr>\n",
       "      <th></th>\n",
       "      <th></th>\n",
       "      <th>split</th>\n",
       "      <th colspan=\"2\" halign=\"left\">mse</th>\n",
       "      <th colspan=\"2\" halign=\"left\">nlpd</th>\n",
       "    </tr>\n",
       "    <tr>\n",
       "      <th></th>\n",
       "      <th></th>\n",
       "      <th>count</th>\n",
       "      <th>mean</th>\n",
       "      <th>std</th>\n",
       "      <th>mean</th>\n",
       "      <th>std</th>\n",
       "    </tr>\n",
       "    <tr>\n",
       "      <th>dataset</th>\n",
       "      <th>model</th>\n",
       "      <th></th>\n",
       "      <th></th>\n",
       "      <th></th>\n",
       "      <th></th>\n",
       "      <th></th>\n",
       "    </tr>\n",
       "  </thead>\n",
       "  <tbody>\n",
       "    <tr>\n",
       "      <th rowspan=\"3\" valign=\"top\">Concrete</th>\n",
       "      <th>dgp-1</th>\n",
       "      <td>5</td>\n",
       "      <td>0.103785</td>\n",
       "      <td>0.014586</td>\n",
       "      <td>0.526873</td>\n",
       "      <td>0.231547</td>\n",
       "    </tr>\n",
       "    <tr>\n",
       "      <th>dgp-2</th>\n",
       "      <td>5</td>\n",
       "      <td>0.093612</td>\n",
       "      <td>0.003917</td>\n",
       "      <td>0.388471</td>\n",
       "      <td>0.200387</td>\n",
       "    </tr>\n",
       "    <tr>\n",
       "      <th>dgp-3</th>\n",
       "      <td>5</td>\n",
       "      <td>0.103213</td>\n",
       "      <td>0.019258</td>\n",
       "      <td>0.624335</td>\n",
       "      <td>0.409077</td>\n",
       "    </tr>\n",
       "    <tr>\n",
       "      <th rowspan=\"3\" valign=\"top\">Energy</th>\n",
       "      <th>dgp-1</th>\n",
       "      <td>5</td>\n",
       "      <td>0.003866</td>\n",
       "      <td>0.001660</td>\n",
       "      <td>-0.991852</td>\n",
       "      <td>0.065885</td>\n",
       "    </tr>\n",
       "    <tr>\n",
       "      <th>dgp-2</th>\n",
       "      <td>5</td>\n",
       "      <td>0.004071</td>\n",
       "      <td>0.001542</td>\n",
       "      <td>-1.089672</td>\n",
       "      <td>0.039099</td>\n",
       "    </tr>\n",
       "    <tr>\n",
       "      <th>dgp-3</th>\n",
       "      <td>5</td>\n",
       "      <td>0.004063</td>\n",
       "      <td>0.001521</td>\n",
       "      <td>-1.091651</td>\n",
       "      <td>0.039407</td>\n",
       "    </tr>\n",
       "    <tr>\n",
       "      <th rowspan=\"3\" valign=\"top\">Kin8mn</th>\n",
       "      <th>dgp-1</th>\n",
       "      <td>5</td>\n",
       "      <td>0.098581</td>\n",
       "      <td>0.006733</td>\n",
       "      <td>0.263775</td>\n",
       "      <td>0.019575</td>\n",
       "    </tr>\n",
       "    <tr>\n",
       "      <th>dgp-2</th>\n",
       "      <td>5</td>\n",
       "      <td>0.061714</td>\n",
       "      <td>0.002321</td>\n",
       "      <td>0.040491</td>\n",
       "      <td>0.026879</td>\n",
       "    </tr>\n",
       "    <tr>\n",
       "      <th>dgp-3</th>\n",
       "      <td>5</td>\n",
       "      <td>0.064156</td>\n",
       "      <td>0.002981</td>\n",
       "      <td>0.144311</td>\n",
       "      <td>0.045383</td>\n",
       "    </tr>\n",
       "    <tr>\n",
       "      <th rowspan=\"3\" valign=\"top\">Power</th>\n",
       "      <th>dgp-1</th>\n",
       "      <td>5</td>\n",
       "      <td>0.056407</td>\n",
       "      <td>0.004272</td>\n",
       "      <td>-0.009102</td>\n",
       "      <td>0.045228</td>\n",
       "    </tr>\n",
       "    <tr>\n",
       "      <th>dgp-2</th>\n",
       "      <td>5</td>\n",
       "      <td>0.044380</td>\n",
       "      <td>0.006752</td>\n",
       "      <td>-0.129386</td>\n",
       "      <td>0.078303</td>\n",
       "    </tr>\n",
       "    <tr>\n",
       "      <th>dgp-3</th>\n",
       "      <td>5</td>\n",
       "      <td>0.042464</td>\n",
       "      <td>0.005769</td>\n",
       "      <td>-0.113741</td>\n",
       "      <td>0.040804</td>\n",
       "    </tr>\n",
       "    <tr>\n",
       "      <th rowspan=\"3\" valign=\"top\">Yacht</th>\n",
       "      <th>dgp-1</th>\n",
       "      <td>5</td>\n",
       "      <td>0.005899</td>\n",
       "      <td>0.005309</td>\n",
       "      <td>-0.908563</td>\n",
       "      <td>0.095456</td>\n",
       "    </tr>\n",
       "    <tr>\n",
       "      <th>dgp-2</th>\n",
       "      <td>5</td>\n",
       "      <td>0.002389</td>\n",
       "      <td>0.002963</td>\n",
       "      <td>-1.084093</td>\n",
       "      <td>0.071270</td>\n",
       "    </tr>\n",
       "    <tr>\n",
       "      <th>dgp-3</th>\n",
       "      <td>5</td>\n",
       "      <td>0.002420</td>\n",
       "      <td>0.002879</td>\n",
       "      <td>-1.085658</td>\n",
       "      <td>0.069810</td>\n",
       "    </tr>\n",
       "  </tbody>\n",
       "</table>\n",
       "</div>"
      ],
      "text/plain": [
       "               split       mse                nlpd          \n",
       "               count      mean       std      mean       std\n",
       "dataset  model                                              \n",
       "Concrete dgp-1     5  0.103785  0.014586  0.526873  0.231547\n",
       "         dgp-2     5  0.093612  0.003917  0.388471  0.200387\n",
       "         dgp-3     5  0.103213  0.019258  0.624335  0.409077\n",
       "Energy   dgp-1     5  0.003866  0.001660 -0.991852  0.065885\n",
       "         dgp-2     5  0.004071  0.001542 -1.089672  0.039099\n",
       "         dgp-3     5  0.004063  0.001521 -1.091651  0.039407\n",
       "Kin8mn   dgp-1     5  0.098581  0.006733  0.263775  0.019575\n",
       "         dgp-2     5  0.061714  0.002321  0.040491  0.026879\n",
       "         dgp-3     5  0.064156  0.002981  0.144311  0.045383\n",
       "Power    dgp-1     5  0.056407  0.004272 -0.009102  0.045228\n",
       "         dgp-2     5  0.044380  0.006752 -0.129386  0.078303\n",
       "         dgp-3     5  0.042464  0.005769 -0.113741  0.040804\n",
       "Yacht    dgp-1     5  0.005899  0.005309 -0.908563  0.095456\n",
       "         dgp-2     5  0.002389  0.002963 -1.084093  0.071270\n",
       "         dgp-3     5  0.002420  0.002879 -1.085658  0.069810"
      ]
     },
     "execution_count": 4,
     "metadata": {},
     "output_type": "execute_result"
    }
   ],
   "source": [
    "table"
   ]
  }
 ],
 "metadata": {
  "jupytext": {
   "cell_metadata_json": true,
   "formats": "ipynb,py:percent"
  },
  "kernelspec": {
   "display_name": "Python 3",
   "language": "python",
   "name": "python3"
  },
  "language_info": {
   "codemirror_mode": {
    "name": "ipython",
    "version": 3
   },
   "file_extension": ".py",
   "mimetype": "text/x-python",
   "name": "python",
   "nbconvert_exporter": "python",
   "pygments_lexer": "ipython3",
   "version": "3.8.18"
  }
 },
 "nbformat": 4,
 "nbformat_minor": 5
}
